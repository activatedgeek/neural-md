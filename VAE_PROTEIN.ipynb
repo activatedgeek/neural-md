{
 "cells": [
  {
   "cell_type": "code",
   "execution_count": 1,
   "metadata": {
    "collapsed": true
   },
   "outputs": [],
   "source": [
    "import torch\n",
    "import torch.nn as nn\n",
    "from torch.autograd import Variable\n",
    "import torch.utils.data as Data\n",
    "import torchvision\n",
    "import matplotlib.pyplot as plt\n",
    "import numpy as np"
   ]
  },
  {
   "cell_type": "code",
   "execution_count": 2,
   "metadata": {
    "collapsed": true
   },
   "outputs": [],
   "source": [
    "chainlength=30\n",
    "max_no_of_atoms=10\n",
    "max_no_of_sidechain_atoms=20\n",
    "max_no_of_angles=3+max_no_of_sidechain_atoms\n",
    "C=max_no_of_atoms+max_no_of_angles+20\n",
    "\n",
    "res_indicator=np.array(np.zeros((20,chainlength))) #20 * chainlength\n",
    "coordinates=np.array(np.random.rand(max_no_of_atoms,chainlength))#max_no_of_atoms * chainlength\n",
    "angles=np.array(np.random.rand(max_no_of_angles,chainlength))#max_no_of_angles * chainlength\n",
    "for i in range(0,chainlength):\n",
    "    res_indicator[np.random.randint(0,20),i]=1\n",
    "\n",
    "#output=np.random.rand(h,chainlength)\n",
    "BATCH_SIZE=2\n",
    "channels=[coordinates,angles,res_indicator]\n",
    "channels=np.array(channels)\n",
    "EPOCH=100\n",
    "train_loader = Data.DataLoader(dataset=[channels, channels], batch_size=BATCH_SIZE, shuffle=True)\n",
    "#test_loader=Data.DataLoader(dataset=,batch)"
   ]
  },
  {
   "cell_type": "code",
   "execution_count": 3,
   "metadata": {},
   "outputs": [
    {
     "name": "stdout",
     "output_type": "stream",
     "text": [
      "CNN(\n",
      "  (conv1): Sequential(\n",
      "    (0): Conv1d (53, 53, kernel_size=(5, 1), stride=(1,), padding=(2,))\n",
      "    (1): ReLU()\n",
      "    (2): MaxPool1d(kernel_size=4, stride=4, padding=0, dilation=1, ceil_mode=False)\n",
      "  )\n",
      "  (conv2): Sequential(\n",
      "    (0): Conv1d (53, 53, kernel_size=(5, 1), stride=(1,), padding=(2,))\n",
      "    (1): ReLU()\n",
      "    (2): MaxPool1d(kernel_size=4, stride=4, padding=0, dilation=1, ceil_mode=False)\n",
      "  )\n",
      "  (out): Linear(in_features=1590, out_features=900)\n",
      ")\n"
     ]
    }
   ],
   "source": [
    "class CNN(nn.Module):\n",
    "    def __init__(self):\n",
    "        super(CNN, self).__init__()\n",
    "        self.C=53\n",
    "        self.conv1_out=53\n",
    "        self.kernel_size=(5,1)\n",
    "        self.stride=1\n",
    "        self.padding=2\n",
    "        self.conv2_out=53\n",
    "        self.chainlength=30\n",
    "        self.hidden_size=chainlength\n",
    "        self.pool_size=4\n",
    "        self.conv1=nn.Sequential(nn.Conv1d(self.C,self.conv1_out,self.kernel_size,self.stride,self.padding),nn.ReLU(),nn.MaxPool1d(self.pool_size))\n",
    "        self.conv2=nn.Sequential(nn.Conv1d(self.conv1_out,self.conv2_out,self.kernel_size,self.stride,self.padding),nn.ReLU(),nn.MaxPool1d(self.pool_size))\n",
    "        self.out=nn.Linear(self.conv2_out*self.chainlength,self.hidden_size*self.chainlength)\n",
    "    \n",
    "    def forward(self, x):\n",
    "        x = self.conv1(x)\n",
    "        x = self.conv2(x)\n",
    "        x = x.view(x.size(0), -1)           # flatten the output of conv1 \n",
    "        output = self.out(x)\n",
    "        return output \n",
    "\n",
    "\n",
    "cnn = CNN()\n",
    "print(cnn)\n"
   ]
  },
  {
   "cell_type": "code",
   "execution_count": 4,
   "metadata": {},
   "outputs": [
    {
     "name": "stdout",
     "output_type": "stream",
     "text": [
      "DCNN(\n",
      "  (deconv1): Sequential(\n",
      "    (0): ConvTranspose1d (150, 20, kernel_size=(5, 1), stride=(1,), padding=(2,))\n",
      "    (1): ReLU()\n",
      "    (2): MaxUnpool1d(kernel_size=(4,), stride=(4,), padding=(0,))\n",
      "  )\n",
      "  (deconv2): Sequential(\n",
      "    (0): ConvTranspose1d (20, 23, kernel_size=(5, 1), stride=(1,), padding=(2,))\n",
      "    (1): ReLU()\n",
      "    (2): MaxUnpool1d(kernel_size=(4,), stride=(4,), padding=(0,))\n",
      "  )\n",
      ")\n"
     ]
    }
   ],
   "source": [
    "class DCNN(nn.Module):\n",
    "     def __init__(self):\n",
    "        super(DCNN, self).__init__()\n",
    "        self.C=53\n",
    "        self.deconv1_out=20\n",
    "        self.kernel_size=(5,1)\n",
    "        self.stride=1\n",
    "        self.padding=2\n",
    "        self.hidden_size=5\n",
    "        self.chainlength=30\n",
    "        self.pool_size=4\n",
    "        self.max_no_of_angles=23\n",
    "        self.deconv1=nn.Sequential(nn.ConvTranspose1d(self.hidden_size*self.chainlength,self.deconv1_out,self.kernel_size,self.stride,self.padding),nn.ReLU(),nn.MaxUnpool1d(self.pool_size))\n",
    "        self.deconv2=nn.Sequential(nn.ConvTranspose1d(self.deconv1_out,self.max_no_of_angles,self.kernel_size,self.stride,self.padding),nn.ReLU(),nn.MaxUnpool1d(self.pool_size))\n",
    "    \n",
    "     def forward(self, x):\n",
    "        x = self.deconv1(x)\n",
    "        output = self.deconv2(x)\n",
    "        return output\n",
    "    \n",
    "dcnn = DCNN()\n",
    "print(dcnn)"
   ]
  },
  {
   "cell_type": "code",
   "execution_count": null,
   "metadata": {
    "collapsed": true
   },
   "outputs": [],
   "source": [
    "       "
   ]
  },
  {
   "cell_type": "code",
   "execution_count": 5,
   "metadata": {
    "collapsed": true
   },
   "outputs": [],
   "source": [
    "class VAE(nn.Module):\n",
    "    def __init__(self):\n",
    "        super(VAE, self).__init__()\n",
    "        \n",
    "        self.chainlength=30\n",
    "        self.C=53\n",
    "        self.hidden_size=5\n",
    "        \n",
    "        self.encoder=CNN()\n",
    "        self.l1=nn.Linear(self.hidden_size*self.chainlength,self.hidden_size*self.chainlength)\n",
    "        self.l2=nn.Linear(self.hidden_size*self.chainlength,self.hidden_size*self.chainlength)\n",
    "        self.decoder=DCNN()\n",
    "        \n",
    "        def reparameterize(self, mu,log_sigma):\n",
    "            normal_eps=torch.randn(h,n)\n",
    "            reparam=mu+(torch.exp(log_sigma/2)*normal_eps)\n",
    "            return reparam\n",
    "\n",
    "\n",
    "        def forward(self, x):\n",
    "            z = self.encoder(x)\n",
    "            mu=self.l1(z)\n",
    "            log_sigma=self.l2(z)\n",
    "            mu=mu.view(self.chainlength,-1)\n",
    "            log_sigma=log_sigma(self.chainlength,-1)\n",
    "            z = self.reparameterize(mu,log_sigma)\n",
    "            return self.decoder(z),mu,log_sigma"
   ]
  },
  {
   "cell_type": "code",
   "execution_count": 6,
   "metadata": {
    "collapsed": true
   },
   "outputs": [],
   "source": [
    "model = VAE()\n",
    "optimizer=torch.optim.SGD(model.parameters(),lr=0.01)"
   ]
  },
  {
   "cell_type": "code",
   "execution_count": 7,
   "metadata": {
    "collapsed": true
   },
   "outputs": [],
   "source": [
    "def loss_func(recon_theta,theta,mu,log_sigma):\n",
    "    recons_loss=nn.MSELoss(recon_theta,theta)\n",
    "    KL=0.5* torch.sum(exp(log_sigma)+ torch.square(mu)-1-log_sigma)\n",
    "    return recons_loss+KL"
   ]
  },
  {
   "cell_type": "code",
   "execution_count": 8,
   "metadata": {
    "collapsed": true
   },
   "outputs": [],
   "source": [
    "def train(epoch):\n",
    "    model.train()\n",
    "    train_loss=0\n",
    "    \n",
    "    for batch_id,data in enumerate(train_loader):\n",
    "        data=Variable(torch.stack(data))\n",
    "        optimizer.zero_grad()\n",
    "        recons_theta,mu,log_sigma=model(data)\n",
    "        loss=loss_func(recons_theta.view(chainlength,-1),data[coordinates:coordinates+angles],mu,log_sigma)\n",
    "        loss.backward()\n",
    "        train_loss+=loss\n",
    "        optimizer.step()\n",
    "        if batch_id % 10 == 0:\n",
    "            print('Train Epoch: {} [{}/{} ({:.0f}%)]\\tLoss: {:.6f}'.format(\n",
    "            epoch, batch_id * len(data), len(train_loader.dataset),\n",
    "            100. * batch_id / len(train_loader),\n",
    "            loss.data[0] / len(data)))\n",
    "    print('====> Epoch: {} Average loss: {:.4f}'.format(epoch, train_loss / len(train_loader.dataset)))"
   ]
  },
  {
   "cell_type": "code",
   "execution_count": null,
   "metadata": {
    "collapsed": true
   },
   "outputs": [],
   "source": []
  },
  {
   "cell_type": "code",
   "execution_count": 9,
   "metadata": {
    "collapsed": true
   },
   "outputs": [],
   "source": [
    "def test(epoch):\n",
    "    model.eval()\n",
    "    test_loss = 0\n",
    "    for i, (data, _) in enumerate(test_loader):\n",
    "        data = Variable(data)\n",
    "        recons_theta, mu, log_sigma = model(data)\n",
    "        test_loss += loss_func(recons_theta.view(chainlength,-1),data[coordinates:coordinates+angles],mu,log_sigma)\n",
    "\n",
    "    test_loss /= len(test_loader.dataset)\n",
    "    print('====> Test set loss: {:.4f}'.format(test_loss))"
   ]
  },
  {
   "cell_type": "code",
   "execution_count": 10,
   "metadata": {
    "collapsed": true
   },
   "outputs": [],
   "source": [
    "#for epoch in range(1, EPOCH + 1):\n",
    " #   train(epoch)\n",
    "   # test(epoch)\n",
    "    "
   ]
  },
  {
   "cell_type": "code",
   "execution_count": null,
   "metadata": {
    "collapsed": true
   },
   "outputs": [],
   "source": []
  },
  {
   "cell_type": "code",
   "execution_count": null,
   "metadata": {},
   "outputs": [],
   "source": []
  },
  {
   "cell_type": "code",
   "execution_count": null,
   "metadata": {
    "collapsed": true
   },
   "outputs": [],
   "source": []
  },
  {
   "cell_type": "code",
   "execution_count": null,
   "metadata": {
    "collapsed": true
   },
   "outputs": [],
   "source": []
  }
 ],
 "metadata": {
  "kernelspec": {
   "display_name": "Python 3",
   "language": "python",
   "name": "python3"
  },
  "language_info": {
   "codemirror_mode": {
    "name": "ipython",
    "version": 3
   },
   "file_extension": ".py",
   "mimetype": "text/x-python",
   "name": "python",
   "nbconvert_exporter": "python",
   "pygments_lexer": "ipython3",
   "version": "3.6.3"
  }
 },
 "nbformat": 4,
 "nbformat_minor": 2
}
