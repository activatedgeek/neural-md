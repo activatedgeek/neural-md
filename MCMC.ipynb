{
 "cells": [
  {
   "cell_type": "code",
   "execution_count": 1,
   "metadata": {},
   "outputs": [],
   "source": [
    "%matplotlib inline\n",
    "\n",
    "# API Reference: http://graylab.jhu.edu/pyrosetta/downloads/documentation/pyrosetta4_online_format/PyRosetta4_Workshops_Appendix_A.pdf\n",
    "import pyrosetta\n",
    "import numpy as np\n",
    "import matplotlib.pyplot as plt"
   ]
  },
  {
   "cell_type": "code",
   "execution_count": 2,
   "metadata": {},
   "outputs": [
    {
     "name": "stdout",
     "output_type": "stream",
     "text": [
      "Found rosetta database at: /Users/sanyamkapoor/Workspace/mlenv/lib/python3.6/site-packages/pyrosetta/database; using it....\n",
      "PyRosetta-4 2017 [Rosetta PyRosetta4.Release.python36.mac 2018.13+release.e0d86740ed3e0d86740ed30e28fc16f36793f608bbc5ce7eaf9 2018-03-31T08:07:21] retrieved from: http://www.pyrosetta.org\n",
      "(C) Copyright Rosetta Commons Member Institutions.\n",
      "Created in JHU by Sergey Lyskov and PyRosetta Team.\n",
      "\n",
      "core.init: Checking for fconfig files in pwd and ./rosetta/flags\n",
      "\n",
      "core.init: Rosetta version: PyRosetta4.Release.python36.mac r175 2018.13+release.e0d86740ed3 e0d86740ed30e28fc16f36793f608bbc5ce7eaf9 http://www.pyrosetta.org 2018-03-31T08:07:21\n",
      "core.init: command: PyRosetta -ex1 -ex2aro -database /Users/sanyamkapoor/Workspace/mlenv/lib/python3.6/site-packages/pyrosetta/database\n",
      "core.init: 'RNG device' seed mode, using '/dev/urandom', seed=-766791233 seed_offset=0 real_seed=-766791233\n",
      "core.init.random: RandomGenerator:init: Normal mode, seed=-766791233 RG_type=mt19937\n"
     ]
    }
   ],
   "source": [
    "pyrosetta.init()"
   ]
  },
  {
   "cell_type": "code",
   "execution_count": 3,
   "metadata": {},
   "outputs": [],
   "source": [
    "def perturb(pose, num_steps=1, b=10.0):\n",
    "    n_residue = pose.total_residue()\n",
    "    for step in range(num_steps):\n",
    "        r = np.random.randint(1, n_residue + 1)\n",
    "        angle_params = np.array([\n",
    "            pose.phi(r),\n",
    "            pose.psi(r),\n",
    "            pose.omega(r),\n",
    "            *pose.residue(r).chi()\n",
    "        ])\n",
    "        angle_params += np.random.laplace(0.0, b, len(angle_params))\n",
    "        phi, psi, omega, *chi = angle_params.tolist()\n",
    "\n",
    "        pose.set_phi(r, phi)\n",
    "        pose.set_psi(r, psi)\n",
    "        pose.set_omega(r, omega)\n",
    "        for i, chi_i in enumerate(chi):\n",
    "            pose.set_chi(i + 1, r, chi_i)"
   ]
  },
  {
   "cell_type": "code",
   "execution_count": 4,
   "metadata": {},
   "outputs": [
    {
     "name": "stdout",
     "output_type": "stream",
     "text": [
      "core.chemical.GlobalResidueTypeSet: Finished initializing fa_standard residue type set.  Created 602 residue types\n",
      "core.chemical.GlobalResidueTypeSet: Total time to initialize 1.07249 seconds.\n",
      "core.import_pose.import_pose: File '3rx6_trimmed.pdb' automatically determined to be of type PDB\n",
      "core.conformation.Conformation: [ WARNING ] missing heavyatom:  OXT on residue LYS:CtermProteinFull 16\n",
      "core.scoring.ScoreFunctionFactory: SCOREFUNCTION: ref2015\n",
      "core.scoring.etable: Starting energy table calculation\n",
      "core.scoring.etable: smooth_etable: changing atr/rep split to bottom of energy well\n",
      "core.scoring.etable: smooth_etable: spline smoothing lj etables (maxdis = 6)\n",
      "core.scoring.etable: smooth_etable: spline smoothing solvation etables (max_dis = 6)\n",
      "core.scoring.etable: Finished calculating energy tables.\n",
      "basic.io.database: Database file opened: scoring/score_functions/hbonds/ref2015_params/HBPoly1D.csv\n",
      "basic.io.database: Database file opened: scoring/score_functions/hbonds/ref2015_params/HBFadeIntervals.csv\n",
      "basic.io.database: Database file opened: scoring/score_functions/hbonds/ref2015_params/HBEval.csv\n",
      "basic.io.database: Database file opened: scoring/score_functions/hbonds/ref2015_params/DonStrength.csv\n",
      "basic.io.database: Database file opened: scoring/score_functions/hbonds/ref2015_params/AccStrength.csv\n",
      "basic.io.database: Database file opened: scoring/score_functions/rama/fd/all.ramaProb\n",
      "basic.io.database: Database file opened: scoring/score_functions/rama/fd/prepro.ramaProb\n",
      "basic.io.database: Database file opened: scoring/score_functions/omega/omega_ppdep.all.txt\n",
      "basic.io.database: Database file opened: scoring/score_functions/omega/omega_ppdep.gly.txt\n",
      "basic.io.database: Database file opened: scoring/score_functions/omega/omega_ppdep.pro.txt\n",
      "basic.io.database: Database file opened: scoring/score_functions/omega/omega_ppdep.valile.txt\n",
      "basic.io.database: Database file opened: scoring/score_functions/P_AA_pp/P_AA\n",
      "basic.io.database: Database file opened: scoring/score_functions/P_AA_pp/P_AA_n\n",
      "core.scoring.P_AA: shapovalov_lib::shap_p_aa_pp_smooth_level of 1( aka low_smooth ) got activated.\n",
      "basic.io.database: Database file opened: scoring/score_functions/P_AA_pp/shapovalov/10deg/kappa131/a20.prop\n"
     ]
    }
   ],
   "source": [
    "orig_pose = pyrosetta.pose_from_pdb('3rx6_trimmed.pdb')\n",
    "pose = pyrosetta.Pose()\n",
    "pose.assign(orig_pose)\n",
    "\n",
    "sf = pyrosetta.get_fa_scorefxn()"
   ]
  },
  {
   "cell_type": "code",
   "execution_count": 5,
   "metadata": {},
   "outputs": [
    {
     "name": "stdout",
     "output_type": "stream",
     "text": [
      "basic.io.database: Database file opened: scoring/score_functions/elec_cp_reps.dat\n",
      "core.scoring.elec.util: Read 40 countpair representative atoms\n",
      "core.pack.dunbrack.RotamerLibrary: shapovalov_lib_fixes_enable option is true.\n",
      "core.pack.dunbrack.RotamerLibrary: shapovalov_lib::shap_dun10_smooth_level of 1( aka lowest_smooth ) got activated.\n",
      "core.pack.dunbrack.RotamerLibrary: Binary rotamer library selected: /Users/sanyamkapoor/Workspace/mlenv/lib/python3.6/site-packages/pyrosetta/database/rotamer/shapovalov/StpDwn_0-0-0/Dunbrack10.lib.bin\n",
      "core.pack.dunbrack.RotamerLibrary: Using Dunbrack library binary file '/Users/sanyamkapoor/Workspace/mlenv/lib/python3.6/site-packages/pyrosetta/database/rotamer/shapovalov/StpDwn_0-0-0/Dunbrack10.lib.bin'.\n",
      "core.pack.dunbrack.RotamerLibrary: Dunbrack 2010 library took 0.410634 seconds to load from binary\n",
      "Original Pose: 1.1106370012416842, Perturbed Pose: 31350.43808504996\n"
     ]
    }
   ],
   "source": [
    "perturb(pose, num_steps=2000, lb=20.0)\n",
    "\n",
    "print('Original Pose: {}, Perturbed Pose: {}'.format(sf(orig_pose), sf(pose)))"
   ]
  },
  {
   "cell_type": "code",
   "execution_count": 34,
   "metadata": {},
   "outputs": [
    {
     "name": "stdout",
     "output_type": "stream",
     "text": [
      "15000/15000\r"
     ]
    }
   ],
   "source": [
    "scores = []\n",
    "max_lb = 20.0\n",
    "min_lb = 0.1\n",
    "cur_lb = max_lb\n",
    "max_step = 15000\n",
    "T = 1.0\n",
    "\n",
    "mc_pose = pyrosetta.Pose()\n",
    "mc_pose.assign(pose)\n",
    "for t in range(1, max_step + 1):\n",
    "    perturb(mc_pose)\n",
    "\n",
    "    prev_score = sf(pose)\n",
    "    score = sf(mc_pose)\n",
    "    delta = score - prev_score\n",
    "    if delta < 0:\n",
    "        pose.assign(mc_pose)\n",
    "    else:\n",
    "        # kT = 1.0 resembles room temperature\n",
    "        \n",
    "        threshold = np.exp(- delta)\n",
    "        p = np.random.rand()\n",
    "        if p < threshold:\n",
    "            pose.assign(mc_pose)\n",
    "        else:\n",
    "            mc_pose.assign(pose)\n",
    "\n",
    "    scores.append(prev_score)\n",
    "    \n",
    "    print('{}/{}'.format(t, max_step), end='\\r')"
   ]
  },
  {
   "cell_type": "code",
   "execution_count": 35,
   "metadata": {},
   "outputs": [
    {
     "name": "stdout",
     "output_type": "stream",
     "text": [
      "119.7236004216652\n"
     ]
    },
    {
     "data": {
      "image/png": "[encoded data removed]",
      "text/plain": [
       "<Figure size 432x288 with 1 Axes>"
      ]
     },
     "metadata": {},
     "output_type": "display_data"
    }
   ],
   "source": [
    "print(scores[-1])\n",
    "plt.plot(list(range(5000)), scores[-5000:])\n",
    "plt.show()"
   ]
  },
  {
   "cell_type": "code",
   "execution_count": null,
   "metadata": {},
   "outputs": [],
   "source": []
  }
 ],
 "metadata": {
  "kernelspec": {
   "display_name": "Python 3",
   "language": "python",
   "name": "python3"
  },
  "language_info": {
   "codemirror_mode": {
    "name": "ipython",
    "version": 3
   },
   "file_extension": ".py",
   "mimetype": "text/x-python",
   "name": "python",
   "nbconvert_exporter": "python",
   "pygments_lexer": "ipython3",
   "version": "3.6.5"
  }
 },
 "nbformat": 4,
 "nbformat_minor": 1
}
